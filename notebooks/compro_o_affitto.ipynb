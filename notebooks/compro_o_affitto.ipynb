{
 "cells": [
  {
   "cell_type": "markdown",
   "metadata": {},
   "source": [
    "# Compro o affitto?\n",
    "\n",
    "Comparazione tra l'acquisto e l'affitto di una prima casa in Italia.\n"
   ]
  },
  {
   "cell_type": "code",
   "execution_count": null,
   "metadata": {},
   "outputs": [],
   "source": [
    "# Input parameters\n",
    "\n",
    "# Purchase scenario\n",
    "purchase_price = 240000  # House purchase price\n",
    "down_payment_rate = 0.35  # 20% down payment\n",
    "annual_mortgage_rate = 0.025  # Annual mortgage rate\n",
    "mortgage_years = 25  # Mortgage duration\n",
    "property_appreciation = 0.02  # 2% annual\n",
    "\n",
    "# Rent scenario\n",
    "monthly_rent = 900  # Base monthly rent\n",
    "\n",
    "# Market parameters\n",
    "annual_investment_return = 0.07  # 7% annual"
   ]
  },
  {
   "cell_type": "code",
   "execution_count": null,
   "metadata": {},
   "outputs": [],
   "source": [
    "import numpy as np\n",
    "import numpy_financial as npf"
   ]
  },
  {
   "cell_type": "code",
   "execution_count": null,
   "metadata": {},
   "outputs": [],
   "source": [
    "# Derivative parameters\n",
    "monthly_mortage_rate = (\n",
    "    annual_mortgage_rate / 12\n",
    ")  # Ok dividing this by 12 because is a TAN (Tasso Annuo Nominale)\n",
    "mortage_months = mortgage_years * 12\n",
    "down_payment_amount = purchase_price * down_payment_rate\n",
    "# The annual 7% of the marked is an effective annual rate\n",
    "monthly_investment_return = (1 + annual_investment_return) ** (1 / 12) - 1"
   ]
  },
  {
   "cell_type": "code",
   "execution_count": null,
   "metadata": {},
   "outputs": [],
   "source": [
    "# Compute the monthly mortgage payment\n",
    "mortage_amount = purchase_price * (1 - down_payment_rate)"
   ]
  },
  {
   "cell_type": "code",
   "execution_count": null,
   "metadata": {},
   "outputs": [],
   "source": [
    "monthly_mortgage_payment = -npf.pmt(\n",
    "    monthly_mortage_rate, mortage_months, mortage_amount\n",
    ")"
   ]
  },
  {
   "cell_type": "code",
   "execution_count": null,
   "metadata": {},
   "outputs": [],
   "source": [
    "excess_rent_over_mortage_payment = monthly_rent - monthly_mortgage_payment"
   ]
  },
  {
   "cell_type": "code",
   "execution_count": null,
   "metadata": {},
   "outputs": [],
   "source": [
    "final_invested_excess_rent = npf.fv(\n",
    "    monthly_investment_return, mortage_months, -excess_rent_over_mortage_payment, 0\n",
    ")\n",
    "final_net_worth_buying = purchase_price + max(final_invested_excess_rent, 0)"
   ]
  },
  {
   "cell_type": "code",
   "execution_count": null,
   "metadata": {},
   "outputs": [],
   "source": [
    "# Rent scenario\n",
    "final_down_payment_value = (\n",
    "    down_payment_amount * (1 + monthly_investment_return) ** mortage_months\n",
    ")\n",
    "final_down_payment_value = npf.fv(\n",
    "    monthly_investment_return, mortage_months, 0, -down_payment_amount\n",
    ")\n",
    "final_net_worth_renting = final_down_payment_value + max(-final_invested_excess_rent, 0)"
   ]
  },
  {
   "cell_type": "code",
   "execution_count": null,
   "metadata": {},
   "outputs": [],
   "source": [
    "print(\"Monthly mortgage payment: {:.2f}\".format(monthly_mortgage_payment))\n",
    "print(\"Monthly rent: {:.2f}\".format(monthly_rent))\n",
    "print(\n",
    "    \"Excess rent over mortgage payment: {:.2f}\".format(excess_rent_over_mortage_payment)\n",
    ")\n",
    "print(\"Final net worth renting: {:.2f}\".format(final_net_worth_renting))\n",
    "print(\"Final net worth buying: {:.2f}\".format(final_net_worth_buying))\n",
    "print(\n",
    "    \"Percentage difference buying over renting: {:.2f}%\".format(\n",
    "        100\n",
    "        * (final_net_worth_buying - final_net_worth_renting)\n",
    "        / final_net_worth_renting\n",
    "    )\n",
    ")"
   ]
  }
 ],
 "metadata": {
  "kernelspec": {
   "display_name": ".venv",
   "language": "python",
   "name": "python3"
  },
  "language_info": {
   "codemirror_mode": {
    "name": "ipython",
    "version": 3
   },
   "file_extension": ".py",
   "mimetype": "text/x-python",
   "name": "python",
   "nbconvert_exporter": "python",
   "pygments_lexer": "ipython3",
   "version": "3.13.1"
  }
 },
 "nbformat": 4,
 "nbformat_minor": 2
}
