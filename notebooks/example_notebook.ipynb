{
 "cells": [
  {
   "cell_type": "markdown",
   "metadata": {},
   "source": [
    "# A pretty report with a little wisdom\n",
    "\n",
    "> A clever person solves a problem. A wise person avoids it.\n"
   ]
  },
  {
   "cell_type": "code",
   "execution_count": null,
   "metadata": {},
   "outputs": [],
   "source": [
    "from comproaffitto.comproaffitto import a_function\n",
    "\n",
    "a_function()"
   ]
  },
  {
   "cell_type": "code",
   "execution_count": null,
   "metadata": {},
   "outputs": [],
   "source": [
    "# Define input parameters\n",
    "params = {\n",
    "    # Purchase scenario\n",
    "    \"purchase_price\": 300000,  # House purchase price\n",
    "    \"down_payment_rate\": 0.20,  # 20% down payment\n",
    "    \"mortgage_rate\": 0.03,  # Annual mortgage rate\n",
    "    \"mortgage_years\": 25,  # Mortgage duration\n",
    "    \"purchase_fees_rate\": 0.04,  # Notary + taxes (simplified)\n",
    "    \"agency_fees_rate\": 0.03,  # Agency fees for purchase\n",
    "    \"maintenance_rate\": 0.015,  # Annual maintenance (1.5% of house value)\n",
    "    # Rent scenario\n",
    "    \"monthly_rent\": 1200,  # Base monthly rent\n",
    "    \"deposit_months\": 3,  # Number of months for deposit\n",
    "    \"rent_agency_fees_months\": 1,  # Agency fees in months of rent\n",
    "    # Common expenses (monthly)\n",
    "    \"condo_fees\": 150,  # Monthly condominium fees\n",
    "    \"utilities\": 200,  # Monthly utilities estimate\n",
    "    # Economic factors\n",
    "    \"inflation_rate\": 0.02,  # Annual inflation rate\n",
    "    \"house_appreciation_rate\": 0.01,  # Annual house value appreciation\n",
    "    \"investment_return_rate\": 0.05,  # Return rate on invested capital\n",
    "}"
   ]
  }
 ],
 "metadata": {
  "language_info": {
   "name": "python"
  }
 },
 "nbformat": 4,
 "nbformat_minor": 2
}
